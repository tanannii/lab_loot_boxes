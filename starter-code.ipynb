{
 "cells": [
  {
   "cell_type": "markdown",
   "metadata": {},
   "source": [
    "# \"Fun with Loot Boxes\" Lab\n",
    "\n",
    "> Author: Caroline Schmitt, Matt Brems\n",
    "\n",
    "### Scenario:\n",
    "\n",
    "You're an analyst for [Zynga](https://en.wikipedia.org/wiki/Zynga), a gaming studio working on an event for an MMO (massively multiplayer online) game. This event is going to include **loot boxes**.\n",
    "\n",
    "<img src=\"https://vignette.wikia.nocookie.net/2007scape/images/0/06/Culinaromancer%27s_chest.png/revision/latest?cb=20180403231423\" alt=\"drawing\" width=\"150\"/> \n",
    "\n",
    "A loot box is basically a treasure chest in a game. This loot box can be opened to reveal a variety of items: some items are very rare and valuable, other items are common and less valuable. (You may consult [the esteemed Wikipedia](https://en.wikipedia.org/wiki/Loot_box) for a more extensive definition.)\n",
    "\n",
    "In our specific game, suppose that loot boxes can be obtained in one of two ways: \n",
    "- After every three hours of playing the game, a user will earn one loot box.\n",
    "- If the user wishes to purchase a loot box, they may pay $1 (in real money!) for a loot box.\n",
    "\n",
    "These loot boxes are very good for our business!\n",
    "- If a player earns a loot box, it means they are spending lots of time on the game. This often leads to advertisement revenue, they may tell their friends to join the game, etc.\n",
    "- If the player purchases a loot box, it means we've earned $1 from our customer.\n",
    "\n",
    "Suppose each loot box is opened to reveal either:\n",
    "- magical elixir (super rare, very valuable), or\n",
    "- nothing.\n",
    "\n",
    "Whether each loot box contains the elixir or nothing is **random**. Our boss wants some guidance on what sort of randomness to use on these loot boxes! \n",
    "- If the magical elixir is too rare, then users may not be motivated to try to get them, because they believe they'll never find the magical elixir.\n",
    "- If the magical elixir is too common, then users may not be motivated to try to get them, because the game has so much of the magical elixir that it isn't worthwhile to try to get it.\n",
    "\n",
    "However, our boss isn't a math-y type person! When explaining things to our boss, we need to explain the impact of our choices on the game as concretely as possible.\n",
    "\n",
    "### Version 1\n",
    "In our first version of the game, we'll say that loot boxes contain magical elixir 15% of the time and nothing 85% of the time.\n",
    "\n",
    "#### 1. Our boss asks, \"If a user buys 100 loot boxes, how many elixirs will they get?\" How would you respond?"
   ]
  },
  {
   "cell_type": "code",
   "execution_count": 1,
   "metadata": {},
   "outputs": [],
   "source": [
    "#The user should expect to get 15 (100*15%)"
   ]
  },
  {
   "cell_type": "code",
   "execution_count": 2,
   "metadata": {},
   "outputs": [],
   "source": [
    "#Get elixirs or don't = Bernoulli\n",
    "#Try 100 loot boxes = Binomial"
   ]
  },
  {
   "cell_type": "code",
   "execution_count": 3,
   "metadata": {},
   "outputs": [],
   "source": [
    "import numpy as np\n",
    "\n",
    "#Define the function for elixir\n",
    "def loot(n, p_elixir):                            # define a function n and probability \n",
    "    count = 0                                     # where we'll store our count (# of elixir)\n",
    "    for i in range(n):                            # buying loot boxes for n times\n",
    "        result = np.random.choice(['elixir', 'nothing'], p = [p_elixir, 1 - p_elixir]) \n",
    "        \n",
    "        if result == 'elixir':\n",
    "            count += 1                      # then add 1 to our count\n",
    "    \n",
    "    return count                        # return the number of counts"
   ]
  },
  {
   "cell_type": "code",
   "execution_count": 4,
   "metadata": {},
   "outputs": [
    {
     "data": {
      "text/plain": [
       "19"
      ]
     },
     "execution_count": 4,
     "metadata": {},
     "output_type": "execute_result"
    }
   ],
   "source": [
    "loot(100, 0.15)"
   ]
  },
  {
   "cell_type": "markdown",
   "metadata": {},
   "source": [
    "#### 2. Our boss asks, \"How many loot boxes does someone have to purchase in order to definitely get elixir?\" How would you respond?"
   ]
  },
  {
   "cell_type": "code",
   "execution_count": 5,
   "metadata": {},
   "outputs": [],
   "source": [
    "#Not possible to definitely get. But can do an estimate on most likely to get. "
   ]
  },
  {
   "cell_type": "code",
   "execution_count": 6,
   "metadata": {},
   "outputs": [],
   "source": [
    "#but we can plot the chances someone will get an elixir, based on the number of boxes they have\n",
    "import numpy as np\n",
    "import matplotlib.pyplot as plt\n",
    "import seaborn as sns\n",
    "import scipy.stats as stats\n",
    "import pandas as pd\n",
    "\n",
    "%matplotlib inline\n",
    "p_elixir= 0.15\n",
    "boxes = 100 #For example, if they have 100 boxes\n",
    "elixir_dist =stats.binom(boxes,p_elixir)\n",
    "elixir_prob = list(range(1, boxes+1))"
   ]
  },
  {
   "cell_type": "code",
   "execution_count": 7,
   "metadata": {},
   "outputs": [
    {
     "data": {
      "text/plain": [
       "[<matplotlib.lines.Line2D at 0x2340d2554f0>]"
      ]
     },
     "execution_count": 7,
     "metadata": {},
     "output_type": "execute_result"
    },
    {
     "data": {
      "image/png": "[encoded data removed]",
      "text/plain": [
       "<Figure size 432x288 with 1 Axes>"
      ]
     },
     "metadata": {
      "needs_background": "light"
     },
     "output_type": "display_data"
    }
   ],
   "source": [
    "plt.step(elixir_prob,elixir_dist.cdf(elixir_prob))\n",
    "#Reading the chart, for probability to be close to 1, you need to buy 30 loot boxes\n",
    "#x axis = number of loot boxes bought"
   ]
  },
  {
   "cell_type": "code",
   "execution_count": 77,
   "metadata": {},
   "outputs": [
    {
     "name": "stderr",
     "output_type": "stream",
     "text": [
      "C:\\Users\\ANNITAN\\anaconda3\\lib\\site-packages\\seaborn\\_decorators.py:36: FutureWarning: Pass the following variables as keyword args: x, y. From version 0.12, the only valid positional argument will be `data`, and passing other arguments without an explicit keyword will result in an error or misinterpretation.\n",
      "  warnings.warn(\n"
     ]
    },
    {
     "data": {
      "image/png": "[encoded data removed]",
      "text/plain": [
       "<Figure size 1152x576 with 1 Axes>"
      ]
     },
     "metadata": {
      "needs_background": "light"
     },
     "output_type": "display_data"
    }
   ],
   "source": [
    "#Negative Binomial - represents the number of failures before you get a success in a series of Bernoulli trials.\n",
    "#To remove before submission\n",
    "\n",
    "p_elixir= 0.15\n",
    "boxes = 1\n",
    "elixir_dist = stats.nbinom(counts,p_elixir)\n",
    "\n",
    "x = tuple(range(1,101))\n",
    "cum_prob = elixir_dist.cdf(x)\n",
    "cdf = pd.DataFrame({'Number of loot boxes before Elixirs':x, 'Cumulative Probability':cum_prob})\n",
    "fig, ax = plt.subplots(figsize=(16,8))\n",
    "ax = sns.barplot('Number of loot boxes before Elixirs', 'Cumulative Probability', data=cdf, color='blue', ax=ax)\n",
    "ax.set_xticks([i for i in range(100)]) # choose which x locations to have ticks\n",
    "ax.set_xticklabels([i for i in range(1,101)]) # set the labels to display at those ticksplt.title('Negative Binomial PMF for for getting {} Elixir with p={}'.format(counts,p_elixir));\n",
    "plt.title('Negative Binomial CDF for for getting {} purchase with p={}'.format(boxes,p_elixir));"
   ]
  },
  {
   "cell_type": "markdown",
   "metadata": {},
   "source": [
    "#### 3. Our boss asks, \"If a user earns 100 loot boxes, what is the chance that a user gets more than 20 elixirs?\" This is a bit more complicated, so let's break it down before answering."
   ]
  },
  {
   "cell_type": "markdown",
   "metadata": {},
   "source": [
    "#### 3a. Let's suppose my random variable $X$ counts up how many elixirs I observe out of my 100 loot boxes. Why is $X$ a discrete random variable?"
   ]
  },
  {
   "cell_type": "markdown",
   "metadata": {},
   "source": [
    "1. Because there's only 2 outcomes - whether you have or dont have the elixirs (it's a binary outcome).\n",
    "2. Outcomes are indendent on each other "
   ]
  },
  {
   "cell_type": "markdown",
   "metadata": {},
   "source": [
    "#### 3b. Recall our discrete distributions: discrete uniform, Bernoulli, binomial, Poisson. Let's suppose my random variable $X$ counts up how many elixirs I observe out of my 100 loot boxes. What distribution is best suited for $X$? Why?\n",
    "- Hint: It may help to consider getting the magical elixir a \"success\" and getting nothing a \"failure.\" "
   ]
  },
  {
   "cell_type": "markdown",
   "metadata": {},
   "source": [
    "Binomial.\n",
    "1. Probability for elixir (success rate) = 0.15\n",
    "2. Number of boxes to purchase is fixed; ie 100\n",
    "3. Outcomes are independent of each other."
   ]
  },
  {
   "cell_type": "markdown",
   "metadata": {},
   "source": [
    "#### 3c. Our boss asks, \"If a user earns 100 loot boxes, what is the chance that a user gets more than 20 elixirs?\" Use the probability mass function to answer the boss' question."
   ]
  },
  {
   "cell_type": "code",
   "execution_count": 85,
   "metadata": {},
   "outputs": [
    {
     "data": {
      "text/plain": [
       "<BarContainer object of 100 artists>"
      ]
     },
     "execution_count": 85,
     "metadata": {},
     "output_type": "execute_result"
    },
    {
     "data": {
      "image/png": "[encoded data removed]",
      "text/plain": [
       "<Figure size 432x288 with 1 Axes>"
      ]
     },
     "metadata": {
      "needs_background": "light"
     },
     "output_type": "display_data"
    }
   ],
   "source": [
    "# Show your work; leave your answer in a comment.\n",
    "#To remove before submission\n",
    "#Binomial Distribution\n",
    "p_elixir= 0.15\n",
    "boxes = 100\n",
    "\n",
    "elixir_distn = stats.binom(boxes, p_elixir)\n",
    "possible_elixir = list(range(1, 101))\n",
    "\n",
    "plt.bar(possible_elixir,\n",
    "        elixir_distn.pmf(possible_elixir))"
   ]
  },
  {
   "cell_type": "code",
   "execution_count": 30,
   "metadata": {},
   "outputs": [
    {
     "data": {
      "text/plain": [
       "0.06631976581888699"
      ]
     },
     "execution_count": 30,
     "metadata": {},
     "output_type": "execute_result"
    }
   ],
   "source": [
    "boxes=100\n",
    "counts_lessthan20 =0\n",
    "elixir_distn=stats.binom(boxes,p_elixir)\n",
    "for box in range(21):\n",
    "    counts_lessthan20 +=elixir_distn.pmf(box)\n",
    "counts_morethan20=1-counts_lessthan20\n",
    "counts_morethan20"
   ]
  },
  {
   "cell_type": "code",
   "execution_count": 81,
   "metadata": {},
   "outputs": [
    {
     "name": "stdout",
     "output_type": "stream",
     "text": [
      "If a user earns 100 loot boxes, the chance tht a user gets 20 elixirs is 6.631976581888699%\n"
     ]
    }
   ],
   "source": [
    "#To remove before submission\n",
    "\n",
    "p_elixir = .15\n",
    "n_boxes = 100\n",
    "elixir_stats = stats.binom(n_boxes, p_elixir)\n",
    "\n",
    "chance_of_get_20_more = 1 - sum(elixir_stats.pmf(i) for i in range(0, 21))\n",
    "print(f'If a user earns 100 loot boxes, the chance tht a user gets 20 elixirs is {chance_of_get_20_more*100}%')"
   ]
  },
  {
   "cell_type": "markdown",
   "metadata": {},
   "source": [
    "#### 3d. Our boss asks, \"If a user earns 100 loot boxes, what is the chance that a user gets more than 20 elixirs?\" Use the cumulative distribution function to answer the boss' question."
   ]
  },
  {
   "cell_type": "code",
   "execution_count": 31,
   "metadata": {},
   "outputs": [
    {
     "data": {
      "text/plain": [
       "0.06631976581888166"
      ]
     },
     "execution_count": 31,
     "metadata": {},
     "output_type": "execute_result"
    }
   ],
   "source": [
    "boxes=100\n",
    "elixir_distn=stats.binom(boxes,p_elixir)\n",
    "possible_elixir=list(range(0,101))\n",
    "counts_morethan20=1-elixir_distn.cdf(20)\n",
    "counts_morethan20"
   ]
  },
  {
   "cell_type": "code",
   "execution_count": 32,
   "metadata": {},
   "outputs": [
    {
     "data": {
      "text/plain": [
       "[<matplotlib.lines.Line2D at 0x25d5006dd00>]"
      ]
     },
     "execution_count": 32,
     "metadata": {},
     "output_type": "execute_result"
    },
    {
     "data": {
      "image/png": "[encoded data removed]",
      "text/plain": [
       "<Figure size 432x288 with 1 Axes>"
      ]
     },
     "metadata": {
      "needs_background": "light"
     },
     "output_type": "display_data"
    }
   ],
   "source": [
    "# Show your work; leave your answer in a comment.\n",
    "boxes = 100\n",
    "\n",
    "elixir_distn = stats.binom(boxes, p_elixir)\n",
    "possible_elixir = list(range(0, 101))\n",
    "plt.step(possible_elixir,\n",
    "        elixir_distn.cdf(possible_elixir))\n"
   ]
  },
  {
   "cell_type": "markdown",
   "metadata": {},
   "source": [
    "#### 3e. Our boss asks, \"If a user earns 100 loot boxes, what is the chance that a user gets more than 20 elixirs?\" Answer your boss' question. *Remember that your boss is not a math-y person!*"
   ]
  },
  {
   "cell_type": "code",
   "execution_count": 33,
   "metadata": {},
   "outputs": [],
   "source": [
    "#About 6%"
   ]
  },
  {
   "cell_type": "markdown",
   "metadata": {},
   "source": [
    "#### 4. Your boss wants to know how many people purchased how many loot boxes last month. \n",
    "> For example, last month, 70% of users did not purchase any loot boxes. 10% of people purchased one loot box. 5% of people purchased two loot boxes... and so on.\n",
    "\n",
    "#### 4a. Recall our discrete distributions: discrete uniform, Bernoulli, binomial, Poisson. Let's suppose my random variable $Y$ counts up how many loot boxes each person purchased through the game last month. What distribution is best suited for $Y$? Why?"
   ]
  },
  {
   "cell_type": "markdown",
   "metadata": {},
   "source": [
    "Poisson - looks at outcome over a period of time (no fixed players/boxes etc)\n",
    "1. Average success rate is provided"
   ]
  },
  {
   "cell_type": "markdown",
   "metadata": {},
   "source": [
    "#### 4b. Suppose that, on average, your customers purchased 2.7 loot boxes last month. In order for your revenue to be at least $500,000, at least how many users would you need on your platform? (Round your answer up to the nearest thousand.) "
   ]
  },
  {
   "cell_type": "code",
   "execution_count": 86,
   "metadata": {},
   "outputs": [
    {
     "data": {
      "text/plain": [
       "<BarContainer object of 10 artists>"
      ]
     },
     "execution_count": 86,
     "metadata": {},
     "output_type": "execute_result"
    },
    {
     "data": {
      "image/png": "[encoded data removed]",
      "text/plain": [
       "<Figure size 432x288 with 1 Axes>"
      ]
     },
     "metadata": {
      "needs_background": "light"
     },
     "output_type": "display_data"
    }
   ],
   "source": [
    "#To remove before submission\n",
    "#average/rate\n",
    "n_loot = 2.7\n",
    "\n",
    "loot_distn = stats.poisson(n_loot)\n",
    "\n",
    "loot_outcomes = list(range(0,10)) #only shows the pmf of an individual getting between 0 to 10 boxes a day\n",
    "plt.bar(loot_outcomes,\n",
    "        loot_distn.pmf(loot_outcomes))\n",
    "\n",
    "#but, the question is - how many user it takes for their pmf outcomes to add up to $500, 000"
   ]
  },
  {
   "cell_type": "code",
   "execution_count": 87,
   "metadata": {},
   "outputs": [
    {
     "data": {
      "text/plain": [
       "array([0.06720551, 0.18145488, 0.24496409, 0.22046768, 0.14881569,\n",
       "       0.08036047, 0.03616221, 0.01394828, 0.00470755, 0.00141226])"
      ]
     },
     "execution_count": 87,
     "metadata": {},
     "output_type": "execute_result"
    }
   ],
   "source": [
    "#To remove before submission\n",
    "#to show the distribution and the probability for each bar\n",
    "loot_distn.pmf(loot_outcomes)"
   ]
  },
  {
   "cell_type": "code",
   "execution_count": 88,
   "metadata": {},
   "outputs": [
    {
     "data": {
      "text/plain": [
       "[<matplotlib.lines.Line2D at 0x25d531f7880>]"
      ]
     },
     "execution_count": 88,
     "metadata": {},
     "output_type": "execute_result"
    },
    {
     "data": {
      "image/png": "[encoded data removed]",
      "text/plain": [
       "<Figure size 432x288 with 1 Axes>"
      ]
     },
     "metadata": {
      "needs_background": "light"
     },
     "output_type": "display_data"
    }
   ],
   "source": [
    "#To remove before submission\n",
    "plt.step(loot_outcomes, loot_distn.cdf(loot_outcomes))\n",
    "\n",
    "#Visualizing the distribution\n",
    "  #possible_loots_per_user=[1,2,3,4,5,6,7,8,9,10]\n",
    "#probabiliity is obtained by the distribution\n",
    "  #p_possible_loots_per_user=[0.06720551, 0.18145488, 0.24496409, 0.22046768, 0.14881569,\n",
    "  #     0.08036047, 0.03616221, 0.01394828, 0.00470755, 0.00141226]\n",
    "  #plt.step(possible_loots_per_user, np.cumsum(p_possible_loots_per_user))"
   ]
  },
  {
   "cell_type": "code",
   "execution_count": 96,
   "metadata": {},
   "outputs": [
    {
     "data": {
      "text/plain": [
       "185185.18518518517"
      ]
     },
     "execution_count": 96,
     "metadata": {},
     "output_type": "execute_result"
    }
   ],
   "source": [
    "target_rev = 500000\n",
    "price_of_box = 1\n",
    "boxes_per_user = 2.7\n",
    "\n",
    "#Calculate rev per user\n",
    "rev_per_user = price_of_box*boxes_per_user\n",
    "\n",
    "users_needed = target_rev/boxes_per_user\n",
    "users_needed"
   ]
  },
  {
   "cell_type": "code",
   "execution_count": 101,
   "metadata": {},
   "outputs": [
    {
     "name": "stdout",
     "output_type": "stream",
     "text": [
      "At least 186000 users would need to be on your platform for revenue to be at least $500000\n"
     ]
    }
   ],
   "source": [
    "# round up to nearest thousand\n",
    "import math\n",
    "users_needed_roundedup = math.ceil(users_needed/1000)*1000\n",
    "print(f'At least {round(users_needed_roundedup)} users would need to be on your platform for revenue to be at least $500000')"
   ]
  },
  {
   "cell_type": "markdown",
   "metadata": {},
   "source": [
    "#### 4c. Assume that your platform has the numer of users you mentioned in your last answer. Suppose that your platform calls anyone who purchases 5 or more loot boxes in a month a \"high value user.\" How much money do you expect to have earned from \"high value users?\" How about \"low value users?\""
   ]
  },
  {
   "cell_type": "code",
   "execution_count": 66,
   "metadata": {},
   "outputs": [
    {
     "data": {
      "text/plain": [
       "array([0, 3, 2, ..., 1, 3, 4])"
      ]
     },
     "execution_count": 66,
     "metadata": {},
     "output_type": "execute_result"
    }
   ],
   "source": [
    "# Show your work; leave your answer in a comment.\n",
    "list_of_outcomes=np.random.poisson(2.7, 184532)\n",
    "list_of_outcomes\n",
    "#give you an array of possible outcomes for 184532 users"
   ]
  },
  {
   "cell_type": "code",
   "execution_count": 67,
   "metadata": {},
   "outputs": [
    {
     "name": "stdout",
     "output_type": "stream",
     "text": [
      "Money earned from high value users $142385\n",
      "Money earned from low value users $357615\n"
     ]
    }
   ],
   "source": [
    "five_or_more_outcomes=[item for item in list_of_outcomes if item>=5]\n",
    "five_or_more_outcomes_total=sum(five_or_more_outcomes)\n",
    "five_or_less_outcomes_total= 500000-five_or_more_outcomes_total\n",
    "print(f'Money earned from high value users ${five_or_more_outcomes_total}')\n",
    "print(f'Money earned from low value users ${five_or_less_outcomes_total}')"
   ]
  },
  {
   "cell_type": "markdown",
   "metadata": {},
   "source": [
    "#### 4d. Suppose that you want to summarize how many people purchased how many loot boxes last month for your boss. Since your boss isn't math-y, what are 2-4 summary numbers you might use to summarize this for your boss? (Your answers will vary here - use your judgment!)"
   ]
  },
  {
   "cell_type": "markdown",
   "metadata": {},
   "source": [
    "1. The average number of loot boxes purchased per user\n",
    "2. The minimum and maximum loot boxes per user (since each box costs 1$ this is also the min/max revenue)\n",
    "3. The median number of loot boxes purchased per user\n",
    "4 .The proportion/distribution of high/low value users"
   ]
  },
  {
   "cell_type": "markdown",
   "metadata": {},
   "source": [
    "#### 5. Your boss asks \"How many loot boxes does it take before someone gets their first elixir?\" Using `np.random.choice`, simulate how many loot boxes it takes somone to get their first elixir. \n",
    "- Start an empty list.\n",
    "- Use control flow to have someone open loot boxes repeatedly.\n",
    "- Once they open a loot box containing an elixir, record the number of loot boxes it took in the empty list.\n",
    "- Repeat this process 100,000 times. \n",
    "\n",
    "This simulates how long it takes for someone to open a loot box containing elixir. Share the 5th, 25th, 50th, 75th, and 95th percentiles.\n",
    "\n",
    "> You may find [this documentation](https://docs.scipy.org/doc/numpy/reference/generated/numpy.random.choice.html)  and [this documentation](https://docs.scipy.org/doc/numpy/reference/generated/numpy.percentile.html) helpful."
   ]
  },
  {
   "cell_type": "code",
   "execution_count": 124,
   "metadata": {},
   "outputs": [
    {
     "data": {
      "text/plain": [
       "array(['n', 'n', 'n', ..., 'n', 'n', 'n'], dtype='<U1')"
      ]
     },
     "execution_count": 124,
     "metadata": {},
     "output_type": "execute_result"
    }
   ],
   "source": [
    "#to remove before submitting\n",
    "#want to build the same 1D array\n",
    "one_elixir = np.random.choice(['y', 'n'], 100000, p=(0.15, 0.85))\n",
    "one_elixir"
   ]
  },
  {
   "cell_type": "code",
   "execution_count": 220,
   "metadata": {},
   "outputs": [],
   "source": [
    "def processes(n):\n",
    "    trials = []\n",
    "    for box in range(n):\n",
    "        n_trial = 0\n",
    "        n_boxes_open = 0\n",
    "        while n_boxes_open <= 85:  #cause the range for int is 100; 85 means less than 0.85; my prob is 0.15\n",
    "            n_boxes_open = np.random.randint(1,101) #assigning random numbers to number of boxes opened; this is used as an estimation for prob. selecting 100 numbers, if <= 85, then no elixir. thats why keep adding. \n",
    "            n_trial += 1\n",
    "        trials.append(n_trial)\n",
    "    return trials"
   ]
  },
  {
   "cell_type": "code",
   "execution_count": 221,
   "metadata": {},
   "outputs": [
    {
     "data": {
      "text/plain": [
       "array([ 2,  5,  2, ...,  5,  7, 22])"
      ]
     },
     "execution_count": 221,
     "metadata": {},
     "output_type": "execute_result"
    }
   ],
   "source": [
    "# Try 100,000 trials using the experiment function\n",
    "trials = processes(100000)\n",
    "first_elixir = np.array(trials)\n",
    "first_elixir"
   ]
  },
  {
   "cell_type": "code",
   "execution_count": 222,
   "metadata": {},
   "outputs": [
    {
     "name": "stdout",
     "output_type": "stream",
     "text": [
      "(100000,)\n"
     ]
    }
   ],
   "source": [
    "print(first_elixir.shape)"
   ]
  },
  {
   "cell_type": "code",
   "execution_count": 224,
   "metadata": {},
   "outputs": [
    {
     "data": {
      "text/plain": [
       "6.65763"
      ]
     },
     "execution_count": 224,
     "metadata": {},
     "output_type": "execute_result"
    }
   ],
   "source": [
    "#Average number of loot boxes before getting first elixir\n",
    "Average_loots = first_elixir.sum()/100000\n",
    "Average_loots"
   ]
  },
  {
   "cell_type": "code",
   "execution_count": 225,
   "metadata": {},
   "outputs": [
    {
     "name": "stdout",
     "output_type": "stream",
     "text": [
      "{5: 1.0, 25: 2.0, 50: 5.0, 75: 9.0, 95: 19.0}\n"
     ]
    }
   ],
   "source": [
    "# Construct the the keys and values to store the percentile data\n",
    "pctl_keys = [5, 25, 50, 75, 95]\n",
    "pctl_values = [np.percentile(first_elixir, key) for key in pctl_keys]\n",
    "pctl = dict(zip(pctl_keys, pctl_values))\n",
    "print(pctl)"
   ]
  },
  {
   "cell_type": "code",
   "execution_count": 226,
   "metadata": {},
   "outputs": [
    {
     "name": "stdout",
     "output_type": "stream",
     "text": [
      "5th percentile: open 1.0 boxes before getting 1st elixir\n",
      "25th percentile: open 2.0 boxes before getting 1st elixir\n",
      "50th percentile: open 5.0 boxes before getting 1st elixir\n",
      "75th percentile: open 9.0 boxes before getting 1st elixir\n",
      "95th percentile: open 19.0 boxes before getting 1st elixir\n"
     ]
    }
   ],
   "source": [
    "for key, value in pctl.items():\n",
    "    print(f'{key}th percentile: open {value} boxes before getting 1st elixir')"
   ]
  },
  {
   "cell_type": "markdown",
   "metadata": {},
   "source": [
    "### Version 2\n",
    "\n",
    "After a substantial update to the game, suppose every loot box can be opened to reveal *one of four different* items:\n",
    "- magical elixir (occurs 1% of the time, most valuable)\n",
    "- golden pendant (occurs 9% of the time, valuable)\n",
    "- steel armor (occurs 30% of the time, semi-valuable)\n",
    "- bronze coin (occurs 60% of the time, least valuable)"
   ]
  },
  {
   "cell_type": "markdown",
   "metadata": {},
   "source": [
    "#### 6. Suppose you want repeat problem 5 above, but do that for the version 2 loot boxes so you can track how many loot boxes are needed to get each item? (e.g. You'd like to be able to say that on average it takes 10 trials to get a golden pendant, 3 trials to get steel armor, and so on.) What Python datatype is the best way to store this data? Why?"
   ]
  },
  {
   "cell_type": "markdown",
   "metadata": {},
   "source": [
    "Dictionary. It allows the storing of key (the type of elixir) and the amount/percentage."
   ]
  },
  {
   "cell_type": "markdown",
   "metadata": {},
   "source": [
    "#### 7. Suppose you and your boss want to measure whether \"Version 2\" is better than \"Version 1.\" What metrics do you think are important to measure? (Your answers will vary here - use your judgment!)"
   ]
  },
  {
   "cell_type": "markdown",
   "metadata": {},
   "source": [
    "1. Total amount of revenue\n",
    "2. Total number of unique  users\n",
    "3. Total number of high value users\n",
    "4. Proportion of high/low value users"
   ]
  }
 ],
 "metadata": {
  "kernelspec": {
   "display_name": "Python 3",
   "language": "python",
   "name": "python3"
  },
  "language_info": {
   "codemirror_mode": {
    "name": "ipython",
    "version": 3
   },
   "file_extension": ".py",
   "mimetype": "text/x-python",
   "name": "python",
   "nbconvert_exporter": "python",
   "pygments_lexer": "ipython3",
   "version": "3.8.8"
  }
 },
 "nbformat": 4,
 "nbformat_minor": 2
}
